{
 "cells": [
  {
   "cell_type": "code",
   "execution_count": 1,
   "metadata": {},
   "outputs": [],
   "source": [
    "import pandas as pd"
   ]
  },
  {
   "cell_type": "markdown",
   "metadata": {},
   "source": [
    "1.利用 pandas 读取 csv 格式数据文件，去除其中的重复值，并展示前部数据"
   ]
  },
  {
   "cell_type": "code",
   "execution_count": 2,
   "metadata": {},
   "outputs": [
    {
     "data": {
      "text/html": [
       "<div>\n",
       "<style scoped>\n",
       "    .dataframe tbody tr th:only-of-type {\n",
       "        vertical-align: middle;\n",
       "    }\n",
       "\n",
       "    .dataframe tbody tr th {\n",
       "        vertical-align: top;\n",
       "    }\n",
       "\n",
       "    .dataframe thead th {\n",
       "        text-align: right;\n",
       "    }\n",
       "</style>\n",
       "<table border=\"1\" class=\"dataframe\">\n",
       "  <thead>\n",
       "    <tr style=\"text-align: right;\">\n",
       "      <th></th>\n",
       "      <th>title</th>\n",
       "      <th>company</th>\n",
       "      <th>company_size</th>\n",
       "      <th>industry</th>\n",
       "      <th>type</th>\n",
       "      <th>salary</th>\n",
       "      <th>company_type</th>\n",
       "      <th>source</th>\n",
       "      <th>experience</th>\n",
       "      <th>education</th>\n",
       "      <th>salary2</th>\n",
       "    </tr>\n",
       "  </thead>\n",
       "  <tbody>\n",
       "    <tr>\n",
       "      <th>0</th>\n",
       "      <td>招聘数据分析师</td>\n",
       "      <td>北京越铖国际科技有限公司</td>\n",
       "      <td>20-99人</td>\n",
       "      <td>人事/行政/高级管理</td>\n",
       "      <td>全职</td>\n",
       "      <td>8000-12000</td>\n",
       "      <td>民营</td>\n",
       "      <td>斗米</td>\n",
       "      <td>不限</td>\n",
       "      <td>不限</td>\n",
       "      <td>10000.0</td>\n",
       "    </tr>\n",
       "    <tr>\n",
       "      <th>1</th>\n",
       "      <td>数据分析师</td>\n",
       "      <td>北京新东方教育科技（集团）有限公司</td>\n",
       "      <td>NaN</td>\n",
       "      <td>计算机/互联网/信息技术</td>\n",
       "      <td>全职</td>\n",
       "      <td>12000-20000</td>\n",
       "      <td>民营</td>\n",
       "      <td>OFweek人才网</td>\n",
       "      <td>不限</td>\n",
       "      <td>不限</td>\n",
       "      <td>16000.0</td>\n",
       "    </tr>\n",
       "    <tr>\n",
       "      <th>2</th>\n",
       "      <td>数据分析师(新浪)</td>\n",
       "      <td>新浪网技术(中国)有限公司</td>\n",
       "      <td>2000-5000人</td>\n",
       "      <td>数据分析师</td>\n",
       "      <td>全职</td>\n",
       "      <td>20000-25000</td>\n",
       "      <td>外商独资/办事处</td>\n",
       "      <td>猎聘</td>\n",
       "      <td>3-5年</td>\n",
       "      <td>本科</td>\n",
       "      <td>22500.0</td>\n",
       "    </tr>\n",
       "    <tr>\n",
       "      <th>3</th>\n",
       "      <td>数据分析师</td>\n",
       "      <td>北京美科思远环境科技有限公司</td>\n",
       "      <td>20-99人</td>\n",
       "      <td>环保/环境科学类</td>\n",
       "      <td>全职</td>\n",
       "      <td>12000-20000</td>\n",
       "      <td>股份制</td>\n",
       "      <td>北极星招聘</td>\n",
       "      <td>不限</td>\n",
       "      <td>硕士</td>\n",
       "      <td>16000.0</td>\n",
       "    </tr>\n",
       "    <tr>\n",
       "      <th>4</th>\n",
       "      <td>助理、临床样本库采样人员、软件工程师、数据库管理工程师、机械设计与结构工程师、Android...</td>\n",
       "      <td>中国人民解放军总医院（北京市解放军医学院）</td>\n",
       "      <td>NaN</td>\n",
       "      <td>医疗</td>\n",
       "      <td>全职</td>\n",
       "      <td>面议</td>\n",
       "      <td>公立医院</td>\n",
       "      <td>康强医疗人才网</td>\n",
       "      <td>不限</td>\n",
       "      <td>不限</td>\n",
       "      <td>NaN</td>\n",
       "    </tr>\n",
       "  </tbody>\n",
       "</table>\n",
       "</div>"
      ],
      "text/plain": [
       "                                               title                company  \\\n",
       "0                                            招聘数据分析师           北京越铖国际科技有限公司   \n",
       "1                                              数据分析师      北京新东方教育科技（集团）有限公司   \n",
       "2                                          数据分析师(新浪)          新浪网技术(中国)有限公司   \n",
       "3                                              数据分析师         北京美科思远环境科技有限公司   \n",
       "4  助理、临床样本库采样人员、软件工程师、数据库管理工程师、机械设计与结构工程师、Android...  中国人民解放军总医院（北京市解放军医学院）   \n",
       "\n",
       "  company_size      industry type       salary company_type     source  \\\n",
       "0       20-99人    人事/行政/高级管理   全职   8000-12000           民营         斗米   \n",
       "1          NaN  计算机/互联网/信息技术   全职  12000-20000           民营  OFweek人才网   \n",
       "2   2000-5000人         数据分析师   全职  20000-25000     外商独资/办事处         猎聘   \n",
       "3       20-99人      环保/环境科学类   全职  12000-20000          股份制      北极星招聘   \n",
       "4          NaN            医疗   全职           面议         公立医院    康强医疗人才网   \n",
       "\n",
       "  experience education  salary2  \n",
       "0         不限        不限  10000.0  \n",
       "1         不限        不限  16000.0  \n",
       "2       3-5年        本科  22500.0  \n",
       "3         不限        硕士  16000.0  \n",
       "4         不限        不限      NaN  "
      ]
     },
     "execution_count": 2,
     "metadata": {},
     "output_type": "execute_result"
    }
   ],
   "source": [
    "df=pd.read_csv('jobs.csv')\n",
    "df.drop_duplicates(inplace=True)\n",
    "df.head()"
   ]
  },
  {
   "cell_type": "markdown",
   "metadata": {},
   "source": [
    "2.统计数据表中的招聘岗位都来自于哪些网站"
   ]
  },
  {
   "cell_type": "code",
   "execution_count": 3,
   "metadata": {},
   "outputs": [
    {
     "data": {
      "text/plain": [
       "猎聘           580\n",
       "OFweek人才网     33\n",
       "斗米            17\n",
       "北极星招聘          5\n",
       "百姓网            5\n",
       "普工招聘网          4\n",
       "工厂直聘网          2\n",
       "康强医疗人才网        1\n",
       "Name: source, dtype: int64"
      ]
     },
     "execution_count": 3,
     "metadata": {},
     "output_type": "execute_result"
    }
   ],
   "source": [
    "df['source'].value_counts()"
   ]
  },
  {
   "cell_type": "markdown",
   "metadata": {},
   "source": [
    "3.统计数据分析师这个岗位，对于工作经验的要求"
   ]
  },
  {
   "cell_type": "code",
   "execution_count": 4,
   "metadata": {},
   "outputs": [
    {
     "data": {
      "text/plain": [
       "3-5年     232\n",
       "1-3年     197\n",
       "不限       142\n",
       "5-10年     75\n",
       "10年以上      4\n",
       "Name: experience, dtype: int64"
      ]
     },
     "execution_count": 4,
     "metadata": {},
     "output_type": "execute_result"
    }
   ],
   "source": [
    "df['experience'].value_counts()"
   ]
  },
  {
   "cell_type": "markdown",
   "metadata": {},
   "source": [
    "4.统计该地区数据分析岗位对于教育背景的要求"
   ]
  },
  {
   "cell_type": "code",
   "execution_count": 5,
   "metadata": {},
   "outputs": [
    {
     "data": {
      "text/plain": [
       "本科    489\n",
       "不限     71\n",
       "硕士     54\n",
       "大专     26\n",
       "初中      9\n",
       "博士      1\n",
       "Name: education, dtype: int64"
      ]
     },
     "execution_count": 5,
     "metadata": {},
     "output_type": "execute_result"
    }
   ],
   "source": [
    "df['education'].value_counts()"
   ]
  },
  {
   "cell_type": "markdown",
   "metadata": {},
   "source": [
    "5.请统计出不同类型公司的职位数量"
   ]
  },
  {
   "cell_type": "code",
   "execution_count": 6,
   "metadata": {},
   "outputs": [
    {
     "data": {
      "text/plain": [
       "民营          458\n",
       "上市公司         62\n",
       "外商独资/办事处     45\n",
       "中外合资/合作      42\n",
       "国企           34\n",
       "事业单位          4\n",
       "个人企业          2\n",
       "股份制           1\n",
       "其它            1\n",
       "公立医院          1\n",
       "Name: company_type, dtype: int64"
      ]
     },
     "execution_count": 6,
     "metadata": {},
     "output_type": "execute_result"
    }
   ],
   "source": [
    "df['company_type'].value_counts()"
   ]
  },
  {
   "cell_type": "markdown",
   "metadata": {},
   "source": [
    "6.所有职位的平均工资是多少"
   ]
  },
  {
   "cell_type": "code",
   "execution_count": 7,
   "metadata": {},
   "outputs": [
    {
     "data": {
      "text/plain": [
       "14409.894688644688"
      ]
     },
     "execution_count": 7,
     "metadata": {},
     "output_type": "execute_result"
    }
   ],
   "source": [
    "df['salary2'].mean()"
   ]
  },
  {
   "cell_type": "markdown",
   "metadata": {},
   "source": [
    "7.请统计平均薪资（即 salary2）排在前 10 位的招聘公司及金额"
   ]
  },
  {
   "cell_type": "code",
   "execution_count": 8,
   "metadata": {},
   "outputs": [
    {
     "data": {
      "text/html": [
       "<div>\n",
       "<style scoped>\n",
       "    .dataframe tbody tr th:only-of-type {\n",
       "        vertical-align: middle;\n",
       "    }\n",
       "\n",
       "    .dataframe tbody tr th {\n",
       "        vertical-align: top;\n",
       "    }\n",
       "\n",
       "    .dataframe thead th {\n",
       "        text-align: right;\n",
       "    }\n",
       "</style>\n",
       "<table border=\"1\" class=\"dataframe\">\n",
       "  <thead>\n",
       "    <tr style=\"text-align: right;\">\n",
       "      <th></th>\n",
       "      <th>company</th>\n",
       "      <th>salary2</th>\n",
       "    </tr>\n",
       "  </thead>\n",
       "  <tbody>\n",
       "    <tr>\n",
       "      <th>0</th>\n",
       "      <td>xx公司</td>\n",
       "      <td>25000.0</td>\n",
       "    </tr>\n",
       "    <tr>\n",
       "      <th>424</th>\n",
       "      <td>欧科互动网络科技(北京)有限公司</td>\n",
       "      <td>25000.0</td>\n",
       "    </tr>\n",
       "    <tr>\n",
       "      <th>27</th>\n",
       "      <td>中商利高科技(北京)有限公司</td>\n",
       "      <td>25000.0</td>\n",
       "    </tr>\n",
       "    <tr>\n",
       "      <th>219</th>\n",
       "      <td>北京某互联网公司</td>\n",
       "      <td>25000.0</td>\n",
       "    </tr>\n",
       "    <tr>\n",
       "      <th>34</th>\n",
       "      <td>中建材信息技术股份有限公司</td>\n",
       "      <td>25000.0</td>\n",
       "    </tr>\n",
       "    <tr>\n",
       "      <th>154</th>\n",
       "      <td>北京奇元科技有限公司</td>\n",
       "      <td>25000.0</td>\n",
       "    </tr>\n",
       "    <tr>\n",
       "      <th>410</th>\n",
       "      <td>某互联网公司</td>\n",
       "      <td>25000.0</td>\n",
       "    </tr>\n",
       "    <tr>\n",
       "      <th>449</th>\n",
       "      <td>清控紫荆(北京)教育科技股份有限公司</td>\n",
       "      <td>25000.0</td>\n",
       "    </tr>\n",
       "    <tr>\n",
       "      <th>43</th>\n",
       "      <td>中网数据(北京)股份有限公司</td>\n",
       "      <td>25000.0</td>\n",
       "    </tr>\n",
       "    <tr>\n",
       "      <th>143</th>\n",
       "      <td>北京城市网邻信息技术有限公司</td>\n",
       "      <td>25000.0</td>\n",
       "    </tr>\n",
       "  </tbody>\n",
       "</table>\n",
       "</div>"
      ],
      "text/plain": [
       "                company  salary2\n",
       "0                  xx公司  25000.0\n",
       "424    欧科互动网络科技(北京)有限公司  25000.0\n",
       "27       中商利高科技(北京)有限公司  25000.0\n",
       "219            北京某互联网公司  25000.0\n",
       "34        中建材信息技术股份有限公司  25000.0\n",
       "154          北京奇元科技有限公司  25000.0\n",
       "410              某互联网公司  25000.0\n",
       "449  清控紫荆(北京)教育科技股份有限公司  25000.0\n",
       "43       中网数据(北京)股份有限公司  25000.0\n",
       "143      北京城市网邻信息技术有限公司  25000.0"
      ]
     },
     "execution_count": 8,
     "metadata": {},
     "output_type": "execute_result"
    }
   ],
   "source": [
    "df.groupby('company')['salary2'].mean().reset_index().sort_values(by='salary2',ascending=False).head(10)"
   ]
  },
  {
   "cell_type": "markdown",
   "metadata": {},
   "source": [
    "8.请统计发布职位数排在前 10 位的招聘公司及其职位数量"
   ]
  },
  {
   "cell_type": "code",
   "execution_count": 9,
   "metadata": {},
   "outputs": [
    {
     "data": {
      "text/html": [
       "<div>\n",
       "<style scoped>\n",
       "    .dataframe tbody tr th:only-of-type {\n",
       "        vertical-align: middle;\n",
       "    }\n",
       "\n",
       "    .dataframe tbody tr th {\n",
       "        vertical-align: top;\n",
       "    }\n",
       "\n",
       "    .dataframe thead th {\n",
       "        text-align: right;\n",
       "    }\n",
       "</style>\n",
       "<table border=\"1\" class=\"dataframe\">\n",
       "  <thead>\n",
       "    <tr style=\"text-align: right;\">\n",
       "      <th></th>\n",
       "      <th>company</th>\n",
       "      <th>title</th>\n",
       "    </tr>\n",
       "  </thead>\n",
       "  <tbody>\n",
       "    <tr>\n",
       "      <th>457</th>\n",
       "      <td>百度在线网络技术(北京)有限公司</td>\n",
       "      <td>7</td>\n",
       "    </tr>\n",
       "    <tr>\n",
       "      <th>497</th>\n",
       "      <td>车好多旧机动车经纪(北京)有限公司</td>\n",
       "      <td>7</td>\n",
       "    </tr>\n",
       "    <tr>\n",
       "      <th>447</th>\n",
       "      <td>深圳索信达数据技术有限公司</td>\n",
       "      <td>7</td>\n",
       "    </tr>\n",
       "    <tr>\n",
       "      <th>438</th>\n",
       "      <td>海南小易到家电子商务有限公司上海分公司</td>\n",
       "      <td>6</td>\n",
       "    </tr>\n",
       "    <tr>\n",
       "      <th>493</th>\n",
       "      <td>贝壳找房(北京)科技有限公司</td>\n",
       "      <td>5</td>\n",
       "    </tr>\n",
       "    <tr>\n",
       "      <th>487</th>\n",
       "      <td>苏州皇亭电子有限公司</td>\n",
       "      <td>5</td>\n",
       "    </tr>\n",
       "    <tr>\n",
       "      <th>379</th>\n",
       "      <td>广联达科技股份有限公司</td>\n",
       "      <td>4</td>\n",
       "    </tr>\n",
       "    <tr>\n",
       "      <th>137</th>\n",
       "      <td>北京嘀嘀无限科技发展有限公司</td>\n",
       "      <td>4</td>\n",
       "    </tr>\n",
       "    <tr>\n",
       "      <th>79</th>\n",
       "      <td>北京中油瑞飞信息技术有限责任公司</td>\n",
       "      <td>4</td>\n",
       "    </tr>\n",
       "    <tr>\n",
       "      <th>246</th>\n",
       "      <td>北京百分点信息科技有限公司</td>\n",
       "      <td>4</td>\n",
       "    </tr>\n",
       "  </tbody>\n",
       "</table>\n",
       "</div>"
      ],
      "text/plain": [
       "                 company  title\n",
       "457     百度在线网络技术(北京)有限公司      7\n",
       "497    车好多旧机动车经纪(北京)有限公司      7\n",
       "447        深圳索信达数据技术有限公司      7\n",
       "438  海南小易到家电子商务有限公司上海分公司      6\n",
       "493       贝壳找房(北京)科技有限公司      5\n",
       "487           苏州皇亭电子有限公司      5\n",
       "379          广联达科技股份有限公司      4\n",
       "137       北京嘀嘀无限科技发展有限公司      4\n",
       "79      北京中油瑞飞信息技术有限责任公司      4\n",
       "246        北京百分点信息科技有限公司      4"
      ]
     },
     "execution_count": 9,
     "metadata": {},
     "output_type": "execute_result"
    }
   ],
   "source": [
    "df.groupby('company')['title'].count().reset_index().sort_values(by='title',ascending=False).head(10)"
   ]
  },
  {
   "cell_type": "markdown",
   "metadata": {},
   "source": [
    "9.请统计出平均工资排在前 10 位的公司类型及平均工资金额"
   ]
  },
  {
   "cell_type": "code",
   "execution_count": 10,
   "metadata": {},
   "outputs": [
    {
     "data": {
      "text/html": [
       "<div>\n",
       "<style scoped>\n",
       "    .dataframe tbody tr th:only-of-type {\n",
       "        vertical-align: middle;\n",
       "    }\n",
       "\n",
       "    .dataframe tbody tr th {\n",
       "        vertical-align: top;\n",
       "    }\n",
       "\n",
       "    .dataframe thead th {\n",
       "        text-align: right;\n",
       "    }\n",
       "</style>\n",
       "<table border=\"1\" class=\"dataframe\">\n",
       "  <thead>\n",
       "    <tr style=\"text-align: right;\">\n",
       "      <th></th>\n",
       "      <th>company_type</th>\n",
       "      <th>salary2</th>\n",
       "    </tr>\n",
       "  </thead>\n",
       "  <tbody>\n",
       "    <tr>\n",
       "      <th>7</th>\n",
       "      <td>外商独资/办事处</td>\n",
       "      <td>17468.750000</td>\n",
       "    </tr>\n",
       "    <tr>\n",
       "      <th>9</th>\n",
       "      <td>股份制</td>\n",
       "      <td>16000.000000</td>\n",
       "    </tr>\n",
       "    <tr>\n",
       "      <th>8</th>\n",
       "      <td>民营</td>\n",
       "      <td>14378.595718</td>\n",
       "    </tr>\n",
       "    <tr>\n",
       "      <th>0</th>\n",
       "      <td>上市公司</td>\n",
       "      <td>14367.346939</td>\n",
       "    </tr>\n",
       "    <tr>\n",
       "      <th>3</th>\n",
       "      <td>事业单位</td>\n",
       "      <td>14166.666667</td>\n",
       "    </tr>\n",
       "    <tr>\n",
       "      <th>2</th>\n",
       "      <td>中外合资/合作</td>\n",
       "      <td>13357.142857</td>\n",
       "    </tr>\n",
       "    <tr>\n",
       "      <th>1</th>\n",
       "      <td>个人企业</td>\n",
       "      <td>13250.000000</td>\n",
       "    </tr>\n",
       "    <tr>\n",
       "      <th>6</th>\n",
       "      <td>国企</td>\n",
       "      <td>12846.153846</td>\n",
       "    </tr>\n",
       "    <tr>\n",
       "      <th>5</th>\n",
       "      <td>其它</td>\n",
       "      <td>10000.000000</td>\n",
       "    </tr>\n",
       "    <tr>\n",
       "      <th>4</th>\n",
       "      <td>公立医院</td>\n",
       "      <td>NaN</td>\n",
       "    </tr>\n",
       "  </tbody>\n",
       "</table>\n",
       "</div>"
      ],
      "text/plain": [
       "  company_type       salary2\n",
       "7     外商独资/办事处  17468.750000\n",
       "9          股份制  16000.000000\n",
       "8           民营  14378.595718\n",
       "0         上市公司  14367.346939\n",
       "3         事业单位  14166.666667\n",
       "2      中外合资/合作  13357.142857\n",
       "1         个人企业  13250.000000\n",
       "6           国企  12846.153846\n",
       "5           其它  10000.000000\n",
       "4         公立医院           NaN"
      ]
     },
     "execution_count": 10,
     "metadata": {},
     "output_type": "execute_result"
    }
   ],
   "source": [
    "df.groupby('company_type')['salary2'].mean().reset_index().sort_values(by='salary2',ascending=False).head(10)"
   ]
  },
  {
   "cell_type": "code",
   "execution_count": null,
   "metadata": {},
   "outputs": [],
   "source": []
  }
 ],
 "metadata": {
  "kernelspec": {
   "display_name": "Python 3",
   "language": "python",
   "name": "python3"
  },
  "language_info": {
   "codemirror_mode": {
    "name": "ipython",
    "version": 3
   },
   "file_extension": ".py",
   "mimetype": "text/x-python",
   "name": "python",
   "nbconvert_exporter": "python",
   "pygments_lexer": "ipython3",
   "version": "3.6.10"
  }
 },
 "nbformat": 4,
 "nbformat_minor": 4
}
